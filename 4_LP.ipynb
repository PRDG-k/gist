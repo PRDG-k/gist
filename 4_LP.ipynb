{
 "cells": [
  {
   "cell_type": "code",
   "execution_count": 108,
   "metadata": {},
   "outputs": [],
   "source": [
    "import pulp\n",
    "import pandas as pd"
   ]
  },
  {
   "cell_type": "code",
   "execution_count": 109,
   "metadata": {},
   "outputs": [],
   "source": [
    "model_BESS = pulp.LpProblem('Minimize_cost', pulp.LpMinimize)\n",
    "\n",
    "# Params\n",
    "\n",
    "T = 24  # Time\n",
    "E_charge = 93/100    # efficiency of BESS charging\n",
    "E_discharge = 100/93    # efficiency of BESS charging\n",
    "B = 750    # BESS capacity\n",
    "W = 250    # Max power of BESS\n",
    "P_base = 0    # Basefee\n",
    "\n",
    "\n",
    "# Sets\n",
    "\n",
    "PERIOD = list(range(0,T))\n",
    "P_tou = [44.8, 44.8, 44.8, 44.8, 44.8, 44.8, 44.8, 44.8, 44.8, 59.2, 79.7, 79.7, 59.2, 79.7, 79.7, 79.7, 79.7, 59.2, 59.2, 59.2, 59.2, 59.2, 59.2, 44.8]\n",
    "Load = pd.read_csv('load.csv', header=None)\n",
    "PV = pd.read_csv('PV.csv', header=None)\n",
    "L = Load[0]\n",
    "S = PV[0]\n",
    "\n",
    "# Variables\n",
    "\n",
    "u = pulp.LpVariable.dicts('BESS State of Charge', [t for t in PERIOD], lowBound=0.2, upBound=0.8, cat='Continuous')\n",
    "d_load = pulp.LpVariable.dicts('Diesel to Load at t', [t for t in PERIOD], lowBound=0, cat='Continuous')\n",
    "d_bess = pulp.LpVariable.dicts('Diesel to BESS at t', [t for t in PERIOD], lowBound=0, cat='Continuous')\n",
    "v_load = pulp.LpVariable.dicts('PV to Load at t', [t for t in PERIOD], lowBound=0, cat='Continuous')\n",
    "v_bess = pulp.LpVariable.dicts('PV to BESS at t', [t for t in PERIOD], lowBound=0, cat='Continuous')\n",
    "c = pulp.LpVariable.dicts('BESS to Load at t', [t for t in PERIOD], lowBound=0, cat='Continuous')"
   ]
  },
  {
   "cell_type": "code",
   "execution_count": 110,
   "metadata": {},
   "outputs": [
    {
     "name": "stdout",
     "output_type": "stream",
     "text": [
      "Gurobi Optimizer version 11.0.2 build v11.0.2rc0 (win64 - Windows 11.0 (22631.2))\n",
      "\n",
      "CPU model: AMD Ryzen 5 6600U with Radeon Graphics, instruction set [SSE2|AVX|AVX2]\n",
      "Thread count: 6 physical cores, 12 logical processors, using up to 12 threads\n",
      "\n",
      "Optimize a model with 96 rows, 144 columns and 304 nonzeros\n",
      "Model fingerprint: 0xe4543ff9\n",
      "Coefficient statistics:\n",
      "  Matrix range     [1e-03, 1e+00]\n",
      "  Objective range  [4e+01, 8e+01]\n",
      "  Bounds range     [2e-01, 8e-01]\n",
      "  RHS range        [5e-01, 9e+03]\n",
      "Presolve removed 52 rows and 78 columns\n",
      "Presolve time: 0.00s\n",
      "Presolved: 44 rows, 66 columns, 131 nonzeros\n",
      "\n",
      "Iteration    Objective       Primal Inf.    Dual Inf.      Time\n",
      "       0    1.1033697e+07   2.540000e+01   0.000000e+00      0s\n",
      "      23    1.1348793e+07   0.000000e+00   0.000000e+00      0s\n",
      "\n",
      "Solved in 23 iterations and 0.01 seconds (0.00 work units)\n",
      "Optimal objective  1.134879345e+07\n",
      "Gurobi status= 2\n"
     ]
    },
    {
     "data": {
      "text/plain": [
       "1"
      ]
     },
     "execution_count": 110,
     "metadata": {},
     "output_type": "execute_result"
    }
   ],
   "source": [
    "# Constraints\n",
    "\n",
    "# Initial and Final SoC\n",
    "model_BESS += u[0] == 0.5\n",
    "model_BESS += u[T-1] == 0.5\n",
    "\n",
    "\n",
    "# Load Constraint\n",
    "for t in PERIOD:\n",
    "    model_BESS += d_load[t] + v_load[t] + E_discharge * c[t] == L[t]\n",
    "\n",
    "\n",
    "# PV Constraint\n",
    "for t in PERIOD:\n",
    "    model_BESS += v_bess[t] + v_load[t] == S[t]\n",
    "\n",
    "\n",
    "# SoC Constraint\n",
    "for t in range(0,T-2):\n",
    "    model_BESS += u[t] + (E_charge * (d_bess[t] + v_bess[t]) - c[t]) / B == u[t+1]\n",
    "\n",
    "\n",
    "# BESS power Constraint\n",
    "for t in PERIOD:\n",
    "    model_BESS += c[t] + E_charge * (d_bess[t] + v_bess[t]) <= W\n",
    "\n",
    "\n",
    "# Objective Function\n",
    "for t in PERIOD:\n",
    "    model_BESS.objective += pulp.lpSum(P_tou[t] * (d_bess[t]+d_load[t]))\n",
    "\n",
    "\n",
    "# Model Solve\n",
    "model_BESS.solve(pulp.GUROBI())"
   ]
  }
 ],
 "metadata": {
  "kernelspec": {
   "display_name": "Python 3",
   "language": "python",
   "name": "python3"
  },
  "language_info": {
   "codemirror_mode": {
    "name": "ipython",
    "version": 3
   },
   "file_extension": ".py",
   "mimetype": "text/x-python",
   "name": "python",
   "nbconvert_exporter": "python",
   "pygments_lexer": "ipython3",
   "version": "3.12.4"
  }
 },
 "nbformat": 4,
 "nbformat_minor": 2
}
