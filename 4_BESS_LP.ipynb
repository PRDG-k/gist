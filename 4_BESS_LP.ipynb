{
 "cells": [
  {
   "cell_type": "markdown",
   "metadata": {},
   "source": [
    "# LP"
   ]
  },
  {
   "cell_type": "code",
   "execution_count": 1,
   "metadata": {},
   "outputs": [],
   "source": [
    "import pulp\n",
    "import pandas as pd\n",
    "import os"
   ]
  },
  {
   "cell_type": "code",
   "execution_count": 2,
   "metadata": {},
   "outputs": [],
   "source": [
    "model_BESS = pulp.LpProblem('Minimize_cost', pulp.LpMinimize)\n",
    "\n",
    "# Params\n",
    "\n",
    "T = 24  # Time\n",
    "Efficiency = 93/100    # efficiency of BESS\n",
    "B = 750    # BESS capacity\n",
    "W = 250    # Max power of BESS\n",
    "P_base = 0    # Basefee\n",
    "\n",
    "\n",
    "# Sets\n",
    "\n",
    "PERIOD = list(range(0,T))\n",
    "P_tou = [40.3, 40.3, 40.3, 40.3, 40.3, 40.3, 40.3, 40.3, 40.3, 85.0, 150.9, 150.9, 85.0, 150.9, 150.9, 150.9, 150.9, 85.0, 85.0, 85.0, 85.0, 85.0, 85.0, 40.3]\n",
    "Load = pd.read_csv(os.path.join(\"result\", 'LOAD_RESULT.csv'), usecols=['Total Load'])\n",
    "PV = pd.read_csv(os.path.join(\"result\", 'PV_RESULT.csv'), usecols=['pv'])\n",
    "L = Load['Total Load']\n",
    "S = PV['pv']\n",
    "\n",
    "# Variables\n",
    "\n",
    "u = pulp.LpVariable.dicts('BESS State of Charge', [t for t in PERIOD], lowBound=0.2, upBound=0.8, cat='Continuous')\n",
    "d_load = pulp.LpVariable.dicts('Diesel to Load at t', [t for t in PERIOD], lowBound=0, cat='Continuous')\n",
    "d_bess = pulp.LpVariable.dicts('Diesel to BESS at t', [t for t in PERIOD], lowBound=0, cat='Continuous')\n",
    "v_load = pulp.LpVariable.dicts('PV to Load at t', [t for t in PERIOD], lowBound=0, cat='Continuous')\n",
    "v_bess = pulp.LpVariable.dicts('PV to BESS at t', [t for t in PERIOD], lowBound=0, cat='Continuous')\n",
    "c = pulp.LpVariable.dicts('BESS to Load at t', [t for t in PERIOD], lowBound=0, cat='Continuous')"
   ]
  },
  {
   "cell_type": "code",
   "execution_count": 5,
   "metadata": {},
   "outputs": [],
   "source": [
    "import orloge as ol\n",
    "\n",
    "# Constraints\n",
    "\n",
    "# Initial and Final SoC\n",
    "model_BESS += u[0] == 0.5\n",
    "model_BESS += u[T-1] == 0.5\n",
    "\n",
    "\n",
    "# Load Constraint\n",
    "for t in PERIOD:\n",
    "    model_BESS += d_load[t] + v_load[t] + Efficiency * c[t] == L[t]\n",
    "\n",
    "\n",
    "# PV Constraint\n",
    "for t in PERIOD:\n",
    "    model_BESS += v_bess[t] + v_load[t] == S[t]\n",
    "\n",
    "\n",
    "# SoC Constraint\n",
    "for t in range(0,T-2):\n",
    "    model_BESS += u[t] + (Efficiency * (d_bess[t] + v_bess[t]) - c[t]) / B == u[t+1]\n",
    "\n",
    "\n",
    "# BESS power Constraint\n",
    "for t in PERIOD:\n",
    "    model_BESS += c[t] + Efficiency * (d_bess[t] + v_bess[t]) <= W\n",
    "\n",
    "\n",
    "# Objective Function\n",
    "for t in PERIOD:\n",
    "        model_BESS.objective += pulp.lpSum(P_tou[t] * (d_bess[t]+d_load[t]))\n",
    "\n",
    "\n",
    "path = \"log_file.txt\"\n",
    "solver = pulp.PULP_CBC_CMD(msg=False, timeLimit=99, logPath=path) # We set msg=False since logPath disables CBC's logs in the Python console\n",
    "# Model Solve\n",
    "model_BESS.solve(solver)\n",
    "\n",
    "logs_dict = ol.get_info_solver(path, 'CBC') # Orloge returns a dict with all logs info\n",
    "best_bound, best_solution = logs_dict[\"best_bound\"], logs_dict[\"best_solution\"]"
   ]
  },
  {
   "cell_type": "code",
   "execution_count": 4,
   "metadata": {},
   "outputs": [],
   "source": [
    "charge = []\n",
    "discharge = []\n",
    "\n",
    "for t in PERIOD:\n",
    "    charge.append((d_bess[t].varValue+v_bess[t].varValue)*Efficiency)\n",
    "    discharge.append(c[t].varValue)\n",
    "\n",
    "charge\n",
    "\n",
    "\n",
    "result = {'PERIOD' : PERIOD,\n",
    "        'CHARGE' : charge,\n",
    "        'DISCHARGE' : discharge,\n",
    "        'Obj' : pulp.value(model_BESS.objective)}\n",
    "\n",
    "result = pd.DataFrame(result)\n",
    "\n",
    "\n",
    "df_new = result[['PERIOD', 'CHARGE', 'DISCHARGE']].copy()\n",
    "df_new.loc[0, 'Obj'] = result['Obj'].iloc[0]\n",
    "\n",
    "df_new.to_csv('BESS 최적 스케쥴링 결과값.csv', index=False)\n"
   ]
  },
  {
   "cell_type": "code",
   "execution_count": null,
   "metadata": {},
   "outputs": [],
   "source": []
  }
 ],
 "metadata": {
  "kernelspec": {
   "display_name": "Python 3",
   "language": "python",
   "name": "python3"
  },
  "language_info": {
   "codemirror_mode": {
    "name": "ipython",
    "version": 3
   },
   "file_extension": ".py",
   "mimetype": "text/x-python",
   "name": "python",
   "nbconvert_exporter": "python",
   "pygments_lexer": "ipython3",
   "version": "3.10.0"
  }
 },
 "nbformat": 4,
 "nbformat_minor": 2
}
