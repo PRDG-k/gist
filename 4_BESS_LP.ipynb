{
 "cells": [
  {
   "cell_type": "markdown",
   "metadata": {},
   "source": [
    "# LP"
   ]
  },
  {
   "cell_type": "code",
   "execution_count": 1,
   "metadata": {},
   "outputs": [],
   "source": [
    "import pulp\n",
    "import pandas as pd\n",
    "import os"
   ]
  },
  {
   "cell_type": "code",
   "execution_count": 2,
   "metadata": {},
   "outputs": [],
   "source": [
    "model_BESS = pulp.LpProblem('Minimize_cost', pulp.LpMinimize)\n",
    "\n",
    "# Params\n",
    "\n",
    "T = 24  # Time\n",
    "Efficiency = 93/100    # efficiency of BESS\n",
    "B = 750    # BESS capacity\n",
    "W = 250    # Max power of BESS\n",
    "P_base = 0    # Basefee\n",
    "\n",
    "\n",
    "# Sets\n",
    "\n",
    "PERIOD = list(range(0,T))\n",
    "P_tou = [40.3, 40.3, 40.3, 40.3, 40.3, 40.3, 40.3, 40.3, 40.3, 85.0, 150.9, 150.9, 85.0, 150.9, 150.9, 150.9, 150.9, 85.0, 85.0, 85.0, 85.0, 85.0, 85.0, 40.3]\n",
    "Load = pd.read_csv(os.path.join(\"result\", 'LOAD_RESULT.csv'), usecols=['Total Load'])\n",
    "PV = pd.read_csv(os.path.join(\"result\", 'PV_RESULT.csv'), usecols=['pv'])\n",
    "L = Load['Total Load']\n",
    "S = PV['pv']\n",
    "\n",
    "# Variables\n",
    "\n",
    "u = pulp.LpVariable.dicts('BESS State of Charge', [t for t in PERIOD], lowBound=0.2, upBound=0.8, cat='Continuous')\n",
    "d_load = pulp.LpVariable.dicts('Diesel to Load at t', [t for t in PERIOD], lowBound=0, cat='Continuous')\n",
    "d_bess = pulp.LpVariable.dicts('Diesel to BESS at t', [t for t in PERIOD], lowBound=0, cat='Continuous')\n",
    "v_load = pulp.LpVariable.dicts('PV to Load at t', [t for t in PERIOD], lowBound=0, cat='Continuous')\n",
    "v_bess = pulp.LpVariable.dicts('PV to BESS at t', [t for t in PERIOD], lowBound=0, cat='Continuous')\n",
    "c = pulp.LpVariable.dicts('BESS to Load at t', [t for t in PERIOD], lowBound=0, cat='Continuous')"
   ]
  },
  {
   "cell_type": "code",
   "execution_count": 3,
   "metadata": {},
   "outputs": [
    {
     "name": "stdout",
     "output_type": "stream",
     "text": [
      "Welcome to the CBC MILP Solver \n",
      "Version: 2.10.3 \n",
      "Build Date: Dec 15 2019 \n",
      "\n",
      "command line - /Users/gangmingyu/Library/Python/3.9/lib/python/site-packages/pulp/solverdir/cbc/osx/64/cbc /var/folders/dj/c81zc2b12d54dz30fc1stjv80000gn/T/b118d4f55cd84700bf175838d5ff659f-pulp.mps -timeMode elapsed -branch -printingOptions all -solution /var/folders/dj/c81zc2b12d54dz30fc1stjv80000gn/T/b118d4f55cd84700bf175838d5ff659f-pulp.sol (default strategy 1)\n",
      "At line 2 NAME          MODEL\n",
      "At line 3 ROWS\n",
      "At line 101 COLUMNS\n",
      "At line 454 RHS\n",
      "At line 551 BOUNDS\n",
      "At line 600 ENDATA\n",
      "Problem MODEL has 96 rows, 144 columns and 304 elements\n",
      "Coin0008I MODEL read with 0 errors\n",
      "Option for timeMode changed from cpu to elapsed\n",
      "Presolve 58 (-38) rows, 93 (-51) columns and 200 (-104) elements\n",
      "Perturbing problem by 0.001% of 804.14399 - largest nonzero change 0.00094316114 ( 0.00049864459%) - largest zero change 0.00086410207\n",
      "0  Obj 11496123 Primal inf 1469.0434 (15) Dual inf 1932.7483 (8)\n",
      "52  Obj 11768060\n",
      "Optimal - objective value 11768058\n",
      "After Postsolve, objective 11768058, infeasibilities - dual 0 (0), primal 0 (0)\n",
      "Optimal objective 11768058.32 - 52 iterations time 0.002, Presolve 0.00\n",
      "Option for printingOptions changed from normal to all\n",
      "Total time (CPU seconds):       0.00   (Wallclock seconds):       0.00\n",
      "\n"
     ]
    },
    {
     "data": {
      "text/plain": [
       "1"
      ]
     },
     "execution_count": 3,
     "metadata": {},
     "output_type": "execute_result"
    }
   ],
   "source": [
    "# Constraints\n",
    "\n",
    "# Initial and Final SoC\n",
    "model_BESS += u[0] == 0.5\n",
    "model_BESS += u[T-1] == 0.5\n",
    "\n",
    "\n",
    "# Load Constraint\n",
    "for t in PERIOD:\n",
    "    model_BESS += d_load[t] + v_load[t] + Efficiency * c[t] == L[t]\n",
    "\n",
    "\n",
    "# PV Constraint\n",
    "for t in PERIOD:\n",
    "    model_BESS += v_bess[t] + v_load[t] == S[t]\n",
    "\n",
    "\n",
    "# SoC Constraint\n",
    "for t in range(0,T-2):\n",
    "    model_BESS += u[t] + (Efficiency * (d_bess[t] + v_bess[t]) - c[t]) / B == u[t+1]\n",
    "\n",
    "\n",
    "# BESS power Constraint\n",
    "for t in PERIOD:\n",
    "    model_BESS += c[t] + Efficiency * (d_bess[t] + v_bess[t]) <= W\n",
    "\n",
    "\n",
    "# Objective Function\n",
    "for t in PERIOD:\n",
    "    model_BESS.objective += pulp.lpSum(P_tou[t] * (d_bess[t]+d_load[t]))\n",
    "\n",
    "\n",
    "# Model Solve\n",
    "model_BESS.solve()"
   ]
  },
  {
   "cell_type": "code",
   "execution_count": 4,
   "metadata": {},
   "outputs": [],
   "source": [
    "charge = []\n",
    "discharge = []\n",
    "\n",
    "for t in PERIOD:\n",
    "    charge.append((d_bess[t].varValue+v_bess[t].varValue)*Efficiency)\n",
    "    discharge.append(c[t].varValue)\n",
    "\n",
    "charge\n",
    "\n",
    "\n",
    "result = {'PERIOD' : PERIOD,\n",
    "        'CHARGE' : charge,\n",
    "        'DISCHARGE' : discharge,\n",
    "        'Obj' : pulp.value(model_BESS.objective)}\n",
    "\n",
    "result = pd.DataFrame(result)\n",
    "\n",
    "\n",
    "df_new = result[['PERIOD', 'CHARGE', 'DISCHARGE']].copy()\n",
    "df_new.loc[0, 'Obj'] = result['Obj'].iloc[0]\n",
    "\n",
    "df_new.to_csv('BESS 최적 스케쥴링 결과값.csv', index=False)\n"
   ]
  }
 ],
 "metadata": {
  "kernelspec": {
   "display_name": "Python 3",
   "language": "python",
   "name": "python3"
  },
  "language_info": {
   "codemirror_mode": {
    "name": "ipython",
    "version": 3
   },
   "file_extension": ".py",
   "mimetype": "text/x-python",
   "name": "python",
   "nbconvert_exporter": "python",
   "pygments_lexer": "ipython3",
   "version": "3.9.6"
  }
 },
 "nbformat": 4,
 "nbformat_minor": 2
}
