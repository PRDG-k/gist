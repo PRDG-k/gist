{
 "cells": [
  {
   "cell_type": "markdown",
   "metadata": {},
   "source": [
    "!pip install -q \\\n",
    "    numpy \\\n",
    "    pandas \\\n",
    "    scikit-learn==1.5.2\\\n",
    "    matplotlib \\\n",
    "    tslearn \\\n",
    "    xgboost \n",
    "        \n"
   ]
  },
  {
   "cell_type": "code",
   "execution_count": 1,
   "metadata": {},
   "outputs": [],
   "source": [
    "import pandas as pd\n",
    "import os \n",
    "\n",
    "import warnings\n",
    "\n",
    "# 모든 경고를 무시하도록 설정\n",
    "warnings.filterwarnings('ignore')\n",
    "\n",
    "forecast = pd.read_csv(os.path.join(\"Data\", \"forecast.csv\"), index_col=0)\n",
    "weather = pd.read_csv(os.path.join(\"Data\", \"weather.csv\"), index_col=0)\n",
    "\n",
    "pv    = pd.read_csv(os.path.join(\"Data\", \"pv_day_merged.csv\"), index_col=0)\n",
    "excol = [col for col in pv.columns if \"시간당발전량\" not in col]\n",
    "pv    = pv.drop(columns=excol)\n",
    "\n",
    "# time_steps = 14\n",
    "\n",
    "\n",
    "# pv = pv.loc[[idx for idx in pv.index if (int(idx[11:13]) >=7 and int(idx[11:13]) <= 20)]]\n",
    "# pv_e = pv[:-14]\n",
    "# # pv_e  = pv[:-24]\n",
    "# test    = pv.iloc[-14:]\n",
    "pv.to_csv(\"pv.csv\")\n"
   ]
  },
  {
   "cell_type": "markdown",
   "metadata": {},
   "source": [
    "# 패턴 군집화"
   ]
  },
  {
   "cell_type": "code",
   "execution_count": 2,
   "metadata": {},
   "outputs": [],
   "source": [
    "import pandas as pd\n",
    "import os \n",
    "import numpy as np\n",
    "import warnings\n",
    "from sklearn.preprocessing import MinMaxScaler\n",
    "\n",
    "# 모든 경고를 무시하도록 설정\n",
    "warnings.filterwarnings('ignore')\n",
    "\n",
    "forecast = pd.read_csv(os.path.join(\"Data\", \"forecast.csv\"), index_col=0)\n",
    "weather = pd.read_csv(os.path.join(\"Data\", \"weather.csv\"), index_col=0)\n",
    "\n",
    "pv    = pd.read_csv(os.path.join(\"Data\", \"pv_day_merged.csv\"), index_col=0)\n",
    "excol = [col for col in pv.columns if \"시간당발전량\" not in col]\n",
    "pv    = pv.drop(columns=excol)\n",
    "# pv = pv.loc[[idx for idx in pv.index if (int(idx[11:13]) >=7 and int(idx[11:13]) <= 20)]]\n",
    "\n",
    "# time_steps = 14\n",
    "time_steps= 24\n",
    "\n",
    "# 건물동 합산\n",
    "pv_sum = pd.DataFrame(pv.sum(axis=1), columns=[\"발전량\"])\n",
    "\n",
    "pv_e = pv_sum[:-time_steps]\n",
    "test    = pv_sum.iloc[-time_steps:]\n",
    "merged_data = pv_e.join(weather)\n",
    "\n",
    "weather_feature = ['지면온도', '기온', '풍속', '습도', '습도', '풍향']\n",
    "pv_feature = [col for col in merged_data.columns if \"발전량\" in col]\n",
    "selected_feature = weather_feature + pv_feature\n",
    "\n",
    "merged_factor = merged_data[selected_feature]\n",
    "\n",
    "# 결측치 대체, 단순하게\n",
    "from sklearn.ensemble import RandomForestRegressor\n",
    "\n",
    "columns_with_nan = merged_factor.columns[merged_factor.isna().any()].tolist()\n",
    "\n",
    "for column in columns_with_nan:\n",
    "    df_notna = merged_factor[merged_factor[column].notna()]\n",
    "    df_na = merged_factor[merged_factor[column].isna()]\n",
    "    \n",
    "    X_train = df_notna.drop(columns=columns_with_nan)\n",
    "    y_train = df_notna[column]\n",
    "    \n",
    "    X_test = df_na.drop(columns=columns_with_nan)\n",
    "    \n",
    "    model = RandomForestRegressor(n_estimators=100, random_state=0)\n",
    "    model.fit(X_train, y_train)\n",
    "    \n",
    "    merged_factor.loc[merged_factor[column].isna(), column] = model.predict(X_test)\n",
    "\n",
    "# diff\n",
    "# merged_factor = np.diff(merged_factor, axis=0)\n",
    "# diff = True\n",
    "diff = False\n",
    "\n",
    "# Tdata = weather[weather_feature][-48:]\n",
    "Tdata = pv_sum.join(weather)[selected_feature][-48:]\n",
    "# Tdata['발전량'] = 0\n",
    "\n",
    "scaler = MinMaxScaler()\n",
    "\n",
    "scaled_factor = scaler.fit_transform(merged_factor)\n",
    "Tdata = scaler.transform(Tdata)\n",
    "\n",
    "def create_sequence_data(data, time_steps=24):\n",
    "    return np.array([data[i:i + time_steps] for i in range(len(data)-time_steps)])\n",
    "\n",
    "X1 = create_sequence_data(scaled_factor, time_steps=time_steps)\n",
    "testX = create_sequence_data(Tdata, time_steps=time_steps)\n",
    "\n",
    "# cert\n",
    "# y = np.array([pv_e.iloc[i] for i in range(time_steps, len(scaled_factor))])\n",
    "y = np.array([scaled_factor[0, len(weather_feature):] for i in range(time_steps, len(scaled_factor))])\n",
    "# --- 나중에 reverse 할 때 기상 값 부분을 zero array로\n"
   ]
  },
  {
   "cell_type": "code",
   "execution_count": 3,
   "metadata": {},
   "outputs": [
    {
     "name": "stdout",
     "output_type": "stream",
     "text": [
      "(2880, 24, 7)\n",
      "(2880, 1)\n",
      "(24, 24, 7)\n"
     ]
    }
   ],
   "source": [
    "print(X1.shape)\n",
    "print(y.shape)\n",
    "print(testX.shape)"
   ]
  },
  {
   "cell_type": "code",
   "execution_count": 5,
   "metadata": {},
   "outputs": [
    {
     "data": {
      "text/plain": [
       "(2880,)"
      ]
     },
     "execution_count": 5,
     "metadata": {},
     "output_type": "execute_result"
    }
   ],
   "source": [
    "from tslearn.clustering import TimeSeriesKMeans\n",
    "import matplotlib.pyplot as plt\n",
    "import pickle\n",
    "\n",
    "k = 3\n",
    "cluster_model = TimeSeriesKMeans(n_clusters=k, metric=\"dtw\", verbose=0, max_iter=100, dtw_inertia=True,\n",
    "                                 random_state=123, tol=0.001, n_jobs=-1, n_init=3)\n",
    "label = cluster_model.fit_predict(X1)\n",
    "\n",
    "# 모델 저장\n",
    "with open(os.path.join(\"Data\",\"model_kmeans\", f'{k}-timeseries_kmeans_pv_{diff}.pkl'), 'wb') as f:\n",
    "    pickle.dump(model, f)\n",
    "\n",
    "label.shape\n",
    "\n",
    "## k 값 따른 sse 확인\n",
    "# import matplotlib.pyplot as plt\n",
    "\n",
    "# sse = []\n",
    "# for k in range(1, 11):\n",
    "#     kmeans = TimeSeriesKMeans(n_clusters=k, metric=\"dtw\", verbose=0, max_iter=10, dtw_inertia=True, random_state=123, tol=0.001, n_jobs=-1)\n",
    "#     kmeans.fit(X)\n",
    "#     sse.append(kmeans.inertia_)\n",
    "\n",
    "# plt.plot(range(1, 11), sse, marker='o')\n",
    "# plt.xlabel('Number of clusters')\n",
    "# plt.ylabel('SSE')\n",
    "# plt.show()"
   ]
  },
  {
   "cell_type": "code",
   "execution_count": 6,
   "metadata": {},
   "outputs": [
    {
     "data": {
      "text/plain": [
       "(2880, 1)"
      ]
     },
     "execution_count": 6,
     "metadata": {},
     "output_type": "execute_result"
    }
   ],
   "source": [
    "nl = label.reshape(-1,1)\n",
    "label_scaler = MinMaxScaler()\n",
    "label = label_scaler.fit_transform(nl)\n",
    "label.shape"
   ]
  },
  {
   "cell_type": "code",
   "execution_count": 7,
   "metadata": {},
   "outputs": [],
   "source": [
    "import random\n",
    "import tensorflow as tf\n",
    "from sklearn.model_selection import train_test_split\n",
    "\n",
    "random.seed(42)\n",
    "np.random.seed(42)\n",
    "tf.random.set_seed(42)\n",
    "\n",
    "file_path = 'pv.csv'\n",
    "data = pd.read_csv(file_path)\n",
    "df = data.iloc[:-24]\n",
    "test = data.iloc[-24:]\n",
    "df['시간'] = pd.to_datetime(df['시간'])\n",
    "# df.sort_values('시간', inplace=True)\n",
    "\n",
    "# 시간 기반 피처 추가\n",
    "df['hour'] = df['시간'].dt.hour / 24.0\n",
    "features = df.columns.difference(['시간'])\n",
    "data = df[features].values\n",
    "\n",
    "# 데이터 정규화\n",
    "scaler = MinMaxScaler()\n",
    "data_scaled = scaler.fit_transform(data)\n",
    "\n",
    "# 시퀀스 생성 함수\n",
    "def create_sequences(data, seq_length):\n",
    "    X, y = [], []\n",
    "    for i in range(len(data) - seq_length):\n",
    "        X.append(data[i:i + seq_length])\n",
    "        y.append(data[i + seq_length])\n",
    "    return np.array(X), np.array(y)\n",
    "\n",
    "seq_length = 24  # 하루(24시간) 단위 시퀀스\n",
    "X, y = create_sequences(data_scaled, seq_length)\n",
    "\n",
    "label_array = label.reshape(label.shape[0], )\n",
    "label_array = np.broadcast_to(label_array[:, np.newaxis, np.newaxis], (label.shape[0], 24, 1))\n",
    "kX = np.concatenate((X, label_array), axis = 2)\n",
    "\n",
    "assert np.all(kX[:, :, -1] == label_array[:, :, -1])\n",
    "\n",
    "\n",
    "# 데이터 분할\n",
    "X_train, X_test, y_train, y_test = train_test_split(kX, y, test_size=0.2,\n",
    "                                                     random_state=42, shuffle=False)"
   ]
  },
  {
   "cell_type": "code",
   "execution_count": 11,
   "metadata": {},
   "outputs": [
    {
     "data": {
      "text/plain": [
       "(2304, 24, 18)"
      ]
     },
     "execution_count": 11,
     "metadata": {},
     "output_type": "execute_result"
    }
   ],
   "source": [
    "X_train.shape"
   ]
  },
  {
   "cell_type": "code",
   "execution_count": null,
   "metadata": {},
   "outputs": [
    {
     "data": {
      "text/html": [
       "<pre style=\"white-space:pre;overflow-x:auto;line-height:normal;font-family:Menlo,'DejaVu Sans Mono',consolas,'Courier New',monospace\"><span style=\"font-weight: bold\">Model: \"functional_21\"</span>\n",
       "</pre>\n"
      ],
      "text/plain": [
       "\u001b[1mModel: \"functional_21\"\u001b[0m\n"
      ]
     },
     "metadata": {},
     "output_type": "display_data"
    },
    {
     "data": {
      "text/html": [
       "<pre style=\"white-space:pre;overflow-x:auto;line-height:normal;font-family:Menlo,'DejaVu Sans Mono',consolas,'Courier New',monospace\">┏━━━━━━━━━━━━━━━━━━━━━┳━━━━━━━━━━━━━━━━━━━┳━━━━━━━━━━━━┳━━━━━━━━━━━━━━━━━━━┓\n",
       "┃<span style=\"font-weight: bold\"> Layer (type)        </span>┃<span style=\"font-weight: bold\"> Output Shape      </span>┃<span style=\"font-weight: bold\">    Param # </span>┃<span style=\"font-weight: bold\"> Connected to      </span>┃\n",
       "┡━━━━━━━━━━━━━━━━━━━━━╇━━━━━━━━━━━━━━━━━━━╇━━━━━━━━━━━━╇━━━━━━━━━━━━━━━━━━━┩\n",
       "│ input_layer_9       │ (<span style=\"color: #00d7ff; text-decoration-color: #00d7ff\">None</span>, <span style=\"color: #00af00; text-decoration-color: #00af00\">24</span>, <span style=\"color: #00af00; text-decoration-color: #00af00\">18</span>)    │          <span style=\"color: #00af00; text-decoration-color: #00af00\">0</span> │ -                 │\n",
       "│ (<span style=\"color: #0087ff; text-decoration-color: #0087ff\">InputLayer</span>)        │                   │            │                   │\n",
       "├─────────────────────┼───────────────────┼────────────┼───────────────────┤\n",
       "│ sequential_7        │ (<span style=\"color: #00d7ff; text-decoration-color: #00d7ff\">None</span>, <span style=\"color: #00af00; text-decoration-color: #00af00\">24</span>, <span style=\"color: #00af00; text-decoration-color: #00af00\">64</span>)    │     <span style=\"color: #00af00; text-decoration-color: #00af00\">44,032</span> │ input_layer_9[<span style=\"color: #00af00; text-decoration-color: #00af00\">0</span>]… │\n",
       "│ (<span style=\"color: #0087ff; text-decoration-color: #0087ff\">Sequential</span>)        │                   │            │                   │\n",
       "├─────────────────────┼───────────────────┼────────────┼───────────────────┤\n",
       "│ sequential_6        │ (<span style=\"color: #00d7ff; text-decoration-color: #00d7ff\">None</span>, <span style=\"color: #00af00; text-decoration-color: #00af00\">24</span>, <span style=\"color: #00af00; text-decoration-color: #00af00\">64</span>)    │    <span style=\"color: #00af00; text-decoration-color: #00af00\">124,672</span> │ input_layer_9[<span style=\"color: #00af00; text-decoration-color: #00af00\">0</span>]… │\n",
       "│ (<span style=\"color: #0087ff; text-decoration-color: #0087ff\">Sequential</span>)        │                   │            │                   │\n",
       "├─────────────────────┼───────────────────┼────────────┼───────────────────┤\n",
       "│ flatten_11          │ (<span style=\"color: #00d7ff; text-decoration-color: #00d7ff\">None</span>, <span style=\"color: #00af00; text-decoration-color: #00af00\">1536</span>)      │          <span style=\"color: #00af00; text-decoration-color: #00af00\">0</span> │ sequential_7[<span style=\"color: #00af00; text-decoration-color: #00af00\">0</span>][<span style=\"color: #00af00; text-decoration-color: #00af00\">…</span> │\n",
       "│ (<span style=\"color: #0087ff; text-decoration-color: #0087ff\">Flatten</span>)           │                   │            │                   │\n",
       "├─────────────────────┼───────────────────┼────────────┼───────────────────┤\n",
       "│ flatten_10          │ (<span style=\"color: #00d7ff; text-decoration-color: #00d7ff\">None</span>, <span style=\"color: #00af00; text-decoration-color: #00af00\">1536</span>)      │          <span style=\"color: #00af00; text-decoration-color: #00af00\">0</span> │ sequential_6[<span style=\"color: #00af00; text-decoration-color: #00af00\">0</span>][<span style=\"color: #00af00; text-decoration-color: #00af00\">…</span> │\n",
       "│ (<span style=\"color: #0087ff; text-decoration-color: #0087ff\">Flatten</span>)           │                   │            │                   │\n",
       "├─────────────────────┼───────────────────┼────────────┼───────────────────┤\n",
       "│ concatenate_1       │ (<span style=\"color: #00d7ff; text-decoration-color: #00d7ff\">None</span>, <span style=\"color: #00af00; text-decoration-color: #00af00\">3072</span>)      │          <span style=\"color: #00af00; text-decoration-color: #00af00\">0</span> │ flatten_11[<span style=\"color: #00af00; text-decoration-color: #00af00\">0</span>][<span style=\"color: #00af00; text-decoration-color: #00af00\">0</span>], │\n",
       "│ (<span style=\"color: #0087ff; text-decoration-color: #0087ff\">Concatenate</span>)       │                   │            │ flatten_10[<span style=\"color: #00af00; text-decoration-color: #00af00\">0</span>][<span style=\"color: #00af00; text-decoration-color: #00af00\">0</span>]  │\n",
       "├─────────────────────┼───────────────────┼────────────┼───────────────────┤\n",
       "│ dense_1 (<span style=\"color: #0087ff; text-decoration-color: #0087ff\">Dense</span>)     │ (<span style=\"color: #00d7ff; text-decoration-color: #00d7ff\">None</span>, <span style=\"color: #00af00; text-decoration-color: #00af00\">17</span>)        │     <span style=\"color: #00af00; text-decoration-color: #00af00\">52,241</span> │ concatenate_1[<span style=\"color: #00af00; text-decoration-color: #00af00\">0</span>]… │\n",
       "└─────────────────────┴───────────────────┴────────────┴───────────────────┘\n",
       "</pre>\n"
      ],
      "text/plain": [
       "┏━━━━━━━━━━━━━━━━━━━━━┳━━━━━━━━━━━━━━━━━━━┳━━━━━━━━━━━━┳━━━━━━━━━━━━━━━━━━━┓\n",
       "┃\u001b[1m \u001b[0m\u001b[1mLayer (type)       \u001b[0m\u001b[1m \u001b[0m┃\u001b[1m \u001b[0m\u001b[1mOutput Shape     \u001b[0m\u001b[1m \u001b[0m┃\u001b[1m \u001b[0m\u001b[1m   Param #\u001b[0m\u001b[1m \u001b[0m┃\u001b[1m \u001b[0m\u001b[1mConnected to     \u001b[0m\u001b[1m \u001b[0m┃\n",
       "┡━━━━━━━━━━━━━━━━━━━━━╇━━━━━━━━━━━━━━━━━━━╇━━━━━━━━━━━━╇━━━━━━━━━━━━━━━━━━━┩\n",
       "│ input_layer_9       │ (\u001b[38;5;45mNone\u001b[0m, \u001b[38;5;34m24\u001b[0m, \u001b[38;5;34m18\u001b[0m)    │          \u001b[38;5;34m0\u001b[0m │ -                 │\n",
       "│ (\u001b[38;5;33mInputLayer\u001b[0m)        │                   │            │                   │\n",
       "├─────────────────────┼───────────────────┼────────────┼───────────────────┤\n",
       "│ sequential_7        │ (\u001b[38;5;45mNone\u001b[0m, \u001b[38;5;34m24\u001b[0m, \u001b[38;5;34m64\u001b[0m)    │     \u001b[38;5;34m44,032\u001b[0m │ input_layer_9[\u001b[38;5;34m0\u001b[0m]… │\n",
       "│ (\u001b[38;5;33mSequential\u001b[0m)        │                   │            │                   │\n",
       "├─────────────────────┼───────────────────┼────────────┼───────────────────┤\n",
       "│ sequential_6        │ (\u001b[38;5;45mNone\u001b[0m, \u001b[38;5;34m24\u001b[0m, \u001b[38;5;34m64\u001b[0m)    │    \u001b[38;5;34m124,672\u001b[0m │ input_layer_9[\u001b[38;5;34m0\u001b[0m]… │\n",
       "│ (\u001b[38;5;33mSequential\u001b[0m)        │                   │            │                   │\n",
       "├─────────────────────┼───────────────────┼────────────┼───────────────────┤\n",
       "│ flatten_11          │ (\u001b[38;5;45mNone\u001b[0m, \u001b[38;5;34m1536\u001b[0m)      │          \u001b[38;5;34m0\u001b[0m │ sequential_7[\u001b[38;5;34m0\u001b[0m][\u001b[38;5;34m…\u001b[0m │\n",
       "│ (\u001b[38;5;33mFlatten\u001b[0m)           │                   │            │                   │\n",
       "├─────────────────────┼───────────────────┼────────────┼───────────────────┤\n",
       "│ flatten_10          │ (\u001b[38;5;45mNone\u001b[0m, \u001b[38;5;34m1536\u001b[0m)      │          \u001b[38;5;34m0\u001b[0m │ sequential_6[\u001b[38;5;34m0\u001b[0m][\u001b[38;5;34m…\u001b[0m │\n",
       "│ (\u001b[38;5;33mFlatten\u001b[0m)           │                   │            │                   │\n",
       "├─────────────────────┼───────────────────┼────────────┼───────────────────┤\n",
       "│ concatenate_1       │ (\u001b[38;5;45mNone\u001b[0m, \u001b[38;5;34m3072\u001b[0m)      │          \u001b[38;5;34m0\u001b[0m │ flatten_11[\u001b[38;5;34m0\u001b[0m][\u001b[38;5;34m0\u001b[0m], │\n",
       "│ (\u001b[38;5;33mConcatenate\u001b[0m)       │                   │            │ flatten_10[\u001b[38;5;34m0\u001b[0m][\u001b[38;5;34m0\u001b[0m]  │\n",
       "├─────────────────────┼───────────────────┼────────────┼───────────────────┤\n",
       "│ dense_1 (\u001b[38;5;33mDense\u001b[0m)     │ (\u001b[38;5;45mNone\u001b[0m, \u001b[38;5;34m17\u001b[0m)        │     \u001b[38;5;34m52,241\u001b[0m │ concatenate_1[\u001b[38;5;34m0\u001b[0m]… │\n",
       "└─────────────────────┴───────────────────┴────────────┴───────────────────┘\n"
      ]
     },
     "metadata": {},
     "output_type": "display_data"
    },
    {
     "data": {
      "text/html": [
       "<pre style=\"white-space:pre;overflow-x:auto;line-height:normal;font-family:Menlo,'DejaVu Sans Mono',consolas,'Courier New',monospace\"><span style=\"font-weight: bold\"> Total params: </span><span style=\"color: #00af00; text-decoration-color: #00af00\">220,945</span> (863.07 KB)\n",
       "</pre>\n"
      ],
      "text/plain": [
       "\u001b[1m Total params: \u001b[0m\u001b[38;5;34m220,945\u001b[0m (863.07 KB)\n"
      ]
     },
     "metadata": {},
     "output_type": "display_data"
    },
    {
     "data": {
      "text/html": [
       "<pre style=\"white-space:pre;overflow-x:auto;line-height:normal;font-family:Menlo,'DejaVu Sans Mono',consolas,'Courier New',monospace\"><span style=\"font-weight: bold\"> Trainable params: </span><span style=\"color: #00af00; text-decoration-color: #00af00\">220,945</span> (863.07 KB)\n",
       "</pre>\n"
      ],
      "text/plain": [
       "\u001b[1m Trainable params: \u001b[0m\u001b[38;5;34m220,945\u001b[0m (863.07 KB)\n"
      ]
     },
     "metadata": {},
     "output_type": "display_data"
    },
    {
     "data": {
      "text/html": [
       "<pre style=\"white-space:pre;overflow-x:auto;line-height:normal;font-family:Menlo,'DejaVu Sans Mono',consolas,'Courier New',monospace\"><span style=\"font-weight: bold\"> Non-trainable params: </span><span style=\"color: #00af00; text-decoration-color: #00af00\">0</span> (0.00 B)\n",
       "</pre>\n"
      ],
      "text/plain": [
       "\u001b[1m Non-trainable params: \u001b[0m\u001b[38;5;34m0\u001b[0m (0.00 B)\n"
      ]
     },
     "metadata": {},
     "output_type": "display_data"
    },
    {
     "name": "stdout",
     "output_type": "stream",
     "text": [
      "Epoch 1/500\n",
      "\u001b[1m58/58\u001b[0m \u001b[32m━━━━━━━━━━━━━━━━━━━━\u001b[0m\u001b[37m\u001b[0m \u001b[1m2s\u001b[0m 12ms/step - loss: 1.9078 - val_loss: 0.4558\n",
      "Epoch 2/500\n",
      "\u001b[1m58/58\u001b[0m \u001b[32m━━━━━━━━━━━━━━━━━━━━\u001b[0m\u001b[37m\u001b[0m \u001b[1m0s\u001b[0m 8ms/step - loss: 0.2995 - val_loss: 0.0694\n",
      "Epoch 3/500\n",
      "\u001b[1m58/58\u001b[0m \u001b[32m━━━━━━━━━━━━━━━━━━━━\u001b[0m\u001b[37m\u001b[0m \u001b[1m0s\u001b[0m 8ms/step - loss: 0.0459 - val_loss: 0.0242\n",
      "Epoch 4/500\n",
      "\u001b[1m58/58\u001b[0m \u001b[32m━━━━━━━━━━━━━━━━━━━━\u001b[0m\u001b[37m\u001b[0m \u001b[1m0s\u001b[0m 8ms/step - loss: 0.0166 - val_loss: 0.0197\n",
      "Epoch 5/500\n",
      "\u001b[1m58/58\u001b[0m \u001b[32m━━━━━━━━━━━━━━━━━━━━\u001b[0m\u001b[37m\u001b[0m \u001b[1m0s\u001b[0m 8ms/step - loss: 0.0133 - val_loss: 0.0183\n",
      "Epoch 6/500\n",
      "\u001b[1m58/58\u001b[0m \u001b[32m━━━━━━━━━━━━━━━━━━━━\u001b[0m\u001b[37m\u001b[0m \u001b[1m1s\u001b[0m 8ms/step - loss: 0.0125 - val_loss: 0.0174\n",
      "Epoch 7/500\n",
      "\u001b[1m58/58\u001b[0m \u001b[32m━━━━━━━━━━━━━━━━━━━━\u001b[0m\u001b[37m\u001b[0m \u001b[1m1s\u001b[0m 9ms/step - loss: 0.0119 - val_loss: 0.0168\n",
      "Epoch 8/500\n",
      "\u001b[1m58/58\u001b[0m \u001b[32m━━━━━━━━━━━━━━━━━━━━\u001b[0m\u001b[37m\u001b[0m \u001b[1m0s\u001b[0m 8ms/step - loss: 0.0115 - val_loss: 0.0164\n",
      "Epoch 9/500\n",
      "\u001b[1m58/58\u001b[0m \u001b[32m━━━━━━━━━━━━━━━━━━━━\u001b[0m\u001b[37m\u001b[0m \u001b[1m1s\u001b[0m 9ms/step - loss: 0.0112 - val_loss: 0.0161\n",
      "Epoch 10/500\n",
      "\u001b[1m58/58\u001b[0m \u001b[32m━━━━━━━━━━━━━━━━━━━━\u001b[0m\u001b[37m\u001b[0m \u001b[1m1s\u001b[0m 9ms/step - loss: 0.0109 - val_loss: 0.0160\n",
      "Epoch 11/500\n",
      "\u001b[1m58/58\u001b[0m \u001b[32m━━━━━━━━━━━━━━━━━━━━\u001b[0m\u001b[37m\u001b[0m \u001b[1m1s\u001b[0m 8ms/step - loss: 0.0108 - val_loss: 0.0160\n",
      "Epoch 12/500\n",
      "\u001b[1m58/58\u001b[0m \u001b[32m━━━━━━━━━━━━━━━━━━━━\u001b[0m\u001b[37m\u001b[0m \u001b[1m1s\u001b[0m 9ms/step - loss: 0.0107 - val_loss: 0.0160\n",
      "Epoch 13/500\n",
      "\u001b[1m58/58\u001b[0m \u001b[32m━━━━━━━━━━━━━━━━━━━━\u001b[0m\u001b[37m\u001b[0m \u001b[1m1s\u001b[0m 8ms/step - loss: 0.0105 - val_loss: 0.0160\n",
      "Epoch 14/500\n",
      "\u001b[1m58/58\u001b[0m \u001b[32m━━━━━━━━━━━━━━━━━━━━\u001b[0m\u001b[37m\u001b[0m \u001b[1m1s\u001b[0m 9ms/step - loss: 0.0104 - val_loss: 0.0160\n",
      "Epoch 15/500\n",
      "\u001b[1m58/58\u001b[0m \u001b[32m━━━━━━━━━━━━━━━━━━━━\u001b[0m\u001b[37m\u001b[0m \u001b[1m1s\u001b[0m 8ms/step - loss: 0.0103 - val_loss: 0.0159\n",
      "Epoch 16/500\n",
      "\u001b[1m58/58\u001b[0m \u001b[32m━━━━━━━━━━━━━━━━━━━━\u001b[0m\u001b[37m\u001b[0m \u001b[1m0s\u001b[0m 8ms/step - loss: 0.0102 - val_loss: 0.0160\n",
      "Epoch 17/500\n",
      "\u001b[1m58/58\u001b[0m \u001b[32m━━━━━━━━━━━━━━━━━━━━\u001b[0m\u001b[37m\u001b[0m \u001b[1m1s\u001b[0m 8ms/step - loss: 0.0101 - val_loss: 0.0161\n",
      "Epoch 18/500\n",
      "\u001b[1m58/58\u001b[0m \u001b[32m━━━━━━━━━━━━━━━━━━━━\u001b[0m\u001b[37m\u001b[0m \u001b[1m1s\u001b[0m 8ms/step - loss: 0.0100 - val_loss: 0.0161\n",
      "Epoch 19/500\n",
      "\u001b[1m58/58\u001b[0m \u001b[32m━━━━━━━━━━━━━━━━━━━━\u001b[0m\u001b[37m\u001b[0m \u001b[1m1s\u001b[0m 9ms/step - loss: 0.0099 - val_loss: 0.0161\n",
      "Epoch 20/500\n",
      "\u001b[1m58/58\u001b[0m \u001b[32m━━━━━━━━━━━━━━━━━━━━\u001b[0m\u001b[37m\u001b[0m \u001b[1m0s\u001b[0m 9ms/step - loss: 0.0098 - val_loss: 0.0162\n",
      "Epoch 21/500\n",
      "\u001b[1m58/58\u001b[0m \u001b[32m━━━━━━━━━━━━━━━━━━━━\u001b[0m\u001b[37m\u001b[0m \u001b[1m0s\u001b[0m 8ms/step - loss: 0.0097 - val_loss: 0.0163\n",
      "Epoch 22/500\n",
      "\u001b[1m58/58\u001b[0m \u001b[32m━━━━━━━━━━━━━━━━━━━━\u001b[0m\u001b[37m\u001b[0m \u001b[1m1s\u001b[0m 8ms/step - loss: 0.0096 - val_loss: 0.0165\n",
      "Epoch 23/500\n",
      "\u001b[1m58/58\u001b[0m \u001b[32m━━━━━━━━━━━━━━━━━━━━\u001b[0m\u001b[37m\u001b[0m \u001b[1m0s\u001b[0m 8ms/step - loss: 0.0096 - val_loss: 0.0166\n",
      "Epoch 24/500\n",
      "\u001b[1m58/58\u001b[0m \u001b[32m━━━━━━━━━━━━━━━━━━━━\u001b[0m\u001b[37m\u001b[0m \u001b[1m0s\u001b[0m 8ms/step - loss: 0.0095 - val_loss: 0.0167\n",
      "Epoch 25/500\n",
      "\u001b[1m58/58\u001b[0m \u001b[32m━━━━━━━━━━━━━━━━━━━━\u001b[0m\u001b[37m\u001b[0m \u001b[1m1s\u001b[0m 8ms/step - loss: 0.0094 - val_loss: 0.0167\n"
     ]
    },
    {
     "name": "stderr",
     "output_type": "stream",
     "text": [
      "WARNING:absl:You are saving your model as an HDF5 file via `model.save()` or `keras.saving.save_model(model)`. This file format is considered legacy. We recommend using instead the native Keras format, e.g. `model.save('my_model.keras')` or `keras.saving.save_model(model, 'my_model.keras')`. \n"
     ]
    }
   ],
   "source": [
    "from tensorflow.keras import layers, models\n",
    "from tensorflow.keras import Model, Input, regularizers\n",
    "from tensorflow.keras.layers import Input, LSTM, Dense, Conv1D\n",
    "from tensorflow.keras.callbacks import EarlyStopping\n",
    "\n",
    "random.seed(42)\n",
    "np.random.seed(42)\n",
    "tf.random.set_seed(42)\n",
    "\n",
    "# 11~13시 가중치 ++\n",
    "def time_based_weight(data, hour_index, penalty=2.0):\n",
    "    weights = np.ones(len(data))\n",
    "    # for i in range(len(data)):\n",
    "    #     hour = int(data[i, hour_index] * 24)\n",
    "    #     if hour in [11, 12, 13]:\n",
    "    #         weights[i] *= penalty\n",
    "    return weights\n",
    "\n",
    "hour_index = features.get_loc('hour')\n",
    "weights = time_based_weight(X_train[:, -1, :], hour_index)\n",
    "\n",
    "### 병렬 모형\n",
    "# INPUT\n",
    "input_layer = Input(shape=(X_train.shape[1], X_train.shape[2]))\n",
    "\n",
    "# LSTM\n",
    "lstm_model = models.Sequential()\n",
    "lstm_model.add(LSTM(128,\n",
    "                    return_sequences=True,\n",
    "                    # kernel_regularizer=regularizers.l2(0.01),\n",
    "                    input_shape=(X_train.shape[1], X_train.shape[2])))\n",
    "lstm_model.add(LSTM(64,\n",
    "                    # kernel_regularizer=regularizers.l2(0.01),\n",
    "                    return_sequences=True))\n",
    "lstm_branch = lstm_model(input_layer)\n",
    "\n",
    "cnn_branch = layers.Conv1D(16,\n",
    "                            kernel_size=3,\n",
    "                            kernel_regularizer=regularizers.l2(0.01),\n",
    "                            activation='relu',\n",
    "                            padding='same',\n",
    "                            input_shape=(X_train.shape[1], X_train.shape[2]))(input_layer)\n",
    "\n",
    "\n",
    "# CNN\n",
    "right_biased = models.Sequential()\n",
    "right_biased.add(Conv1D(128,\n",
    "                    kernel_size=3,\n",
    "                    kernel_regularizer=regularizers.l2(0.015),\n",
    "                    activation='relu',\n",
    "                    padding='same',\n",
    "                    input_shape=(X_train.shape[1], X_train.shape[2])\n",
    "                     ))\n",
    "right_biased.add(Conv1D(64,\n",
    "                    kernel_size=3,\n",
    "                    kernel_regularizer=regularizers.l2(0.015),\n",
    "                    activation='relu',\n",
    "                    padding='same',\n",
    "                    input_shape=(X_train.shape[1], X_train.shape[2])\n",
    "                     ))\n",
    "right_biased.add(Conv1D(64,\n",
    "                    kernel_size=3,\n",
    "                    kernel_regularizer=regularizers.l2(0.015),\n",
    "                    activation='relu',\n",
    "                    padding='same',\n",
    "                    input_shape=(X_train.shape[1], X_train.shape[2])\n",
    "                     ))\n",
    "\n",
    "right_branch = right_biased(input_layer)\n",
    "\n",
    "\n",
    "\n",
    "\n",
    "\n",
    "\n",
    "# Flatten\n",
    "cnn_branch_flatten = layers.Flatten()(cnn_branch)\n",
    "lstm_branch_flatten = layers.Flatten()(lstm_branch)\n",
    "right_branch_flatten = layers.Flatten()(right_branch)\n",
    "\n",
    "# 병렬 연결\n",
    "# merged = layers.concatenate([cnn_branch_flatten, lstm_branch_flatten, right_branch_flatten])\n",
    "# merged = layers.concatenate([right_branch_flatten, lstm_branch_flatten])\n",
    "merged = layers.concatenate([cnn_branch_flatten, lstm_branch_flatten])\n",
    "\n",
    "# merged = layers.concatenate([right_branch_flatten, cnn_branch_flatten])\n",
    "\n",
    "\n",
    "output = Dense(y_train.shape[1])(merged)\n",
    "\n",
    "model = Model(inputs=input_layer, outputs=output)\n",
    "###\n",
    "\n",
    "early_stopping = EarlyStopping(monitor='val_loss', patience=10, restore_best_weights=True)\n",
    "\n",
    "model.compile(optimizer='adam', loss='mse')\n",
    "model.summary()\n",
    "\n",
    "# 모델 학습\n",
    "history = model.fit(X_train, y_train, \n",
    "                    epochs=500, batch_size=32, validation_split=0.2,\n",
    "                    sample_weight=weights, verbose=1, callbacks=[early_stopping])\n",
    "\n",
    "model.save(\"cnn_seq.h5\")\n",
    "\n"
   ]
  },
  {
   "cell_type": "code",
   "execution_count": 15,
   "metadata": {},
   "outputs": [
    {
     "name": "stdout",
     "output_type": "stream",
     "text": [
      "\u001b[1m1/1\u001b[0m \u001b[32m━━━━━━━━━━━━━━━━━━━━\u001b[0m\u001b[37m\u001b[0m \u001b[1m0s\u001b[0m 114ms/step\n",
      "\u001b[1m1/1\u001b[0m \u001b[32m━━━━━━━━━━━━━━━━━━━━\u001b[0m\u001b[37m\u001b[0m \u001b[1m0s\u001b[0m 15ms/step\n",
      "\u001b[1m1/1\u001b[0m \u001b[32m━━━━━━━━━━━━━━━━━━━━\u001b[0m\u001b[37m\u001b[0m \u001b[1m0s\u001b[0m 16ms/step\n",
      "\u001b[1m1/1\u001b[0m \u001b[32m━━━━━━━━━━━━━━━━━━━━\u001b[0m\u001b[37m\u001b[0m \u001b[1m0s\u001b[0m 16ms/step\n",
      "\u001b[1m1/1\u001b[0m \u001b[32m━━━━━━━━━━━━━━━━━━━━\u001b[0m\u001b[37m\u001b[0m \u001b[1m0s\u001b[0m 16ms/step\n",
      "\u001b[1m1/1\u001b[0m \u001b[32m━━━━━━━━━━━━━━━━━━━━\u001b[0m\u001b[37m\u001b[0m \u001b[1m0s\u001b[0m 16ms/step\n",
      "\u001b[1m1/1\u001b[0m \u001b[32m━━━━━━━━━━━━━━━━━━━━\u001b[0m\u001b[37m\u001b[0m \u001b[1m0s\u001b[0m 16ms/step\n",
      "\u001b[1m1/1\u001b[0m \u001b[32m━━━━━━━━━━━━━━━━━━━━\u001b[0m\u001b[37m\u001b[0m \u001b[1m0s\u001b[0m 16ms/step\n",
      "\u001b[1m1/1\u001b[0m \u001b[32m━━━━━━━━━━━━━━━━━━━━\u001b[0m\u001b[37m\u001b[0m \u001b[1m0s\u001b[0m 16ms/step\n",
      "\u001b[1m1/1\u001b[0m \u001b[32m━━━━━━━━━━━━━━━━━━━━\u001b[0m\u001b[37m\u001b[0m \u001b[1m0s\u001b[0m 16ms/step\n",
      "\u001b[1m1/1\u001b[0m \u001b[32m━━━━━━━━━━━━━━━━━━━━\u001b[0m\u001b[37m\u001b[0m \u001b[1m0s\u001b[0m 16ms/step\n",
      "\u001b[1m1/1\u001b[0m \u001b[32m━━━━━━━━━━━━━━━━━━━━\u001b[0m\u001b[37m\u001b[0m \u001b[1m0s\u001b[0m 16ms/step\n",
      "\u001b[1m1/1\u001b[0m \u001b[32m━━━━━━━━━━━━━━━━━━━━\u001b[0m\u001b[37m\u001b[0m \u001b[1m0s\u001b[0m 11ms/step\n",
      "\u001b[1m1/1\u001b[0m \u001b[32m━━━━━━━━━━━━━━━━━━━━\u001b[0m\u001b[37m\u001b[0m \u001b[1m0s\u001b[0m 16ms/step\n",
      "\u001b[1m1/1\u001b[0m \u001b[32m━━━━━━━━━━━━━━━━━━━━\u001b[0m\u001b[37m\u001b[0m \u001b[1m0s\u001b[0m 32ms/step\n",
      "\u001b[1m1/1\u001b[0m \u001b[32m━━━━━━━━━━━━━━━━━━━━\u001b[0m\u001b[37m\u001b[0m \u001b[1m0s\u001b[0m 18ms/step\n",
      "\u001b[1m1/1\u001b[0m \u001b[32m━━━━━━━━━━━━━━━━━━━━\u001b[0m\u001b[37m\u001b[0m \u001b[1m0s\u001b[0m 16ms/step\n",
      "\u001b[1m1/1\u001b[0m \u001b[32m━━━━━━━━━━━━━━━━━━━━\u001b[0m\u001b[37m\u001b[0m \u001b[1m0s\u001b[0m 17ms/step\n",
      "\u001b[1m1/1\u001b[0m \u001b[32m━━━━━━━━━━━━━━━━━━━━\u001b[0m\u001b[37m\u001b[0m \u001b[1m0s\u001b[0m 24ms/step\n",
      "\u001b[1m1/1\u001b[0m \u001b[32m━━━━━━━━━━━━━━━━━━━━\u001b[0m\u001b[37m\u001b[0m \u001b[1m0s\u001b[0m 23ms/step\n",
      "\u001b[1m1/1\u001b[0m \u001b[32m━━━━━━━━━━━━━━━━━━━━\u001b[0m\u001b[37m\u001b[0m \u001b[1m0s\u001b[0m 23ms/step\n",
      "\u001b[1m1/1\u001b[0m \u001b[32m━━━━━━━━━━━━━━━━━━━━\u001b[0m\u001b[37m\u001b[0m \u001b[1m0s\u001b[0m 17ms/step\n",
      "\u001b[1m1/1\u001b[0m \u001b[32m━━━━━━━━━━━━━━━━━━━━\u001b[0m\u001b[37m\u001b[0m \u001b[1m0s\u001b[0m 17ms/step\n",
      "\u001b[1m1/1\u001b[0m \u001b[32m━━━━━━━━━━━━━━━━━━━━\u001b[0m\u001b[37m\u001b[0m \u001b[1m0s\u001b[0m 25ms/step\n"
     ]
    }
   ],
   "source": [
    "# 예측 함수\n",
    "def predict_future(model, kmodel, data, wdata, steps):\n",
    "    predictions = []\n",
    "    current_input = data[-1:].copy()\n",
    "\n",
    "    for i in range(steps):\n",
    "        cl = kmodel.predict(wdata[i].reshape(1,time_steps,testX.shape[-1]))      # 클러스터 예측\n",
    "        cl = float(label_scaler.transform(np.array(cl).reshape(1,-1)))\n",
    "        pred = model.predict(current_input)  # (1, 건물 수) 형태 반환\n",
    "\n",
    "        predictions.append(pred[0])\n",
    "        \n",
    "        pred = np.append(pred, cl).reshape(1,18)\n",
    "        \n",
    "        current_input = np.roll(current_input, -1, axis=1)  # 시퀀스 슬라이딩\n",
    "        current_input[0, -1, :] = pred  # 새로운 예측 추가, 군집형태도 있어야 함함\n",
    "    return np.array(predictions)  # (24, 건물 수) 형태 반환\n",
    "        \n",
    "\n",
    "# 미래 24시간 예측\n",
    "future_steps = 24\n",
    "future_predictions = predict_future(model, cluster_model, X_test, testX, future_steps)\n",
    "future_predictions_inv = scaler.inverse_transform(future_predictions)"
   ]
  },
  {
   "cell_type": "code",
   "execution_count": 16,
   "metadata": {},
   "outputs": [
    {
     "data": {
      "text/plain": [
       "np.float64(18021.379672698444)"
      ]
     },
     "execution_count": 16,
     "metadata": {},
     "output_type": "execute_result"
    },
    {
     "data": {
      "image/png": "[encoded data removed]",
      "text/plain": [
       "<Figure size 640x480 with 1 Axes>"
      ]
     },
     "metadata": {},
     "output_type": "display_data"
    }
   ],
   "source": [
    "from sklearn.metrics import mean_squared_error\n",
    "import matplotlib.pyplot as plt\n",
    "\n",
    "test_drop = test.drop('시간', axis=1)\n",
    "y = test_drop.apply(sum, axis = 1).values.tolist()\n",
    "result = list(np.sum(future_predictions_inv, axis=1))\n",
    "result[0:7] = [0] * 7\n",
    "result[-4:] = [0] * 4\n",
    "\n",
    "t = [i for i in range(24)]\n",
    "\n",
    "plt.xlabel('t')\n",
    "plt.ylabel('pv')\n",
    "plt.xticks(ticks=t, labels=t)\n",
    "\n",
    "plt.plot(t,y, label=\"Actual PV\")\n",
    "plt.plot(t,result, label=\"Pred. PV\")\n",
    "\n",
    "# plt.bar(t,y, label=\"Actual PV\")\n",
    "# plt.bar(t,result, label=\"Pred. PV\")\n",
    "plt.legend()\n",
    "\n",
    "mse = mean_squared_error(y, result)\n",
    "mse"
   ]
  },
  {
   "cell_type": "code",
   "execution_count": 46,
   "metadata": {},
   "outputs": [
    {
     "ename": "ValueError",
     "evalue": "Found input variables with inconsistent numbers of samples: [1153, 18448]",
     "output_type": "error",
     "traceback": [
      "\u001b[1;31m---------------------------------------------------------------------------\u001b[0m",
      "\u001b[1;31mValueError\u001b[0m                                Traceback (most recent call last)",
      "Cell \u001b[1;32mIn[46], line 16\u001b[0m\n\u001b[0;32m     13\u001b[0m Xcl \u001b[38;5;241m=\u001b[39m X[index]\u001b[38;5;241m.\u001b[39mreshape(X[index]\u001b[38;5;241m.\u001b[39mshape[\u001b[38;5;241m0\u001b[39m], \u001b[38;5;241m-\u001b[39m\u001b[38;5;241m1\u001b[39m)\n\u001b[0;32m     14\u001b[0m ycl \u001b[38;5;241m=\u001b[39m y[index]\u001b[38;5;241m.\u001b[39mravel()\n\u001b[1;32m---> 16\u001b[0m X_train, X_test, y_train, y_test \u001b[38;5;241m=\u001b[39m \u001b[43mtrain_test_split\u001b[49m\u001b[43m(\u001b[49m\u001b[43mXcl\u001b[49m\u001b[43m,\u001b[49m\u001b[43m \u001b[49m\u001b[43mycl\u001b[49m\u001b[43m,\u001b[49m\u001b[43m \u001b[49m\u001b[43mtest_size\u001b[49m\u001b[38;5;241;43m=\u001b[39;49m\u001b[38;5;241;43m0.2\u001b[39;49m\u001b[43m,\u001b[49m\u001b[43m \u001b[49m\u001b[43mrandom_state\u001b[49m\u001b[38;5;241;43m=\u001b[39;49m\u001b[38;5;241;43m42\u001b[39;49m\u001b[43m)\u001b[49m\n\u001b[0;32m     18\u001b[0m \u001b[38;5;66;03m# 하이퍼파라미터 그리드 설정\u001b[39;00m\n\u001b[0;32m     19\u001b[0m param_grid \u001b[38;5;241m=\u001b[39m {\n\u001b[0;32m     20\u001b[0m     \u001b[38;5;124m'\u001b[39m\u001b[38;5;124mmax_depth\u001b[39m\u001b[38;5;124m'\u001b[39m: [\u001b[38;5;241m5\u001b[39m, \u001b[38;5;241m7\u001b[39m, \u001b[38;5;241m9\u001b[39m],\n\u001b[0;32m     21\u001b[0m     \u001b[38;5;124m'\u001b[39m\u001b[38;5;124mlearning_rate\u001b[39m\u001b[38;5;124m'\u001b[39m: [\u001b[38;5;241m0.01\u001b[39m, \u001b[38;5;241m0.1\u001b[39m, \u001b[38;5;241m0.2\u001b[39m],\n\u001b[0;32m     22\u001b[0m     \u001b[38;5;124m'\u001b[39m\u001b[38;5;124mn_estimators\u001b[39m\u001b[38;5;124m'\u001b[39m: [\u001b[38;5;241m100\u001b[39m, \u001b[38;5;241m200\u001b[39m, \u001b[38;5;241m300\u001b[39m],\n\u001b[0;32m     23\u001b[0m     \u001b[38;5;124m'\u001b[39m\u001b[38;5;124mgamma\u001b[39m\u001b[38;5;124m'\u001b[39m: [\u001b[38;5;241m0\u001b[39m, \u001b[38;5;241m0.2\u001b[39m, \u001b[38;5;241m0.5\u001b[39m]\n\u001b[0;32m     24\u001b[0m }\n",
      "File \u001b[1;32mc:\\Users\\kks\\AppData\\Local\\Programs\\Python\\Python310\\lib\\site-packages\\sklearn\\utils\\_param_validation.py:213\u001b[0m, in \u001b[0;36mvalidate_params.<locals>.decorator.<locals>.wrapper\u001b[1;34m(*args, **kwargs)\u001b[0m\n\u001b[0;32m    207\u001b[0m \u001b[38;5;28;01mtry\u001b[39;00m:\n\u001b[0;32m    208\u001b[0m     \u001b[38;5;28;01mwith\u001b[39;00m config_context(\n\u001b[0;32m    209\u001b[0m         skip_parameter_validation\u001b[38;5;241m=\u001b[39m(\n\u001b[0;32m    210\u001b[0m             prefer_skip_nested_validation \u001b[38;5;129;01mor\u001b[39;00m global_skip_validation\n\u001b[0;32m    211\u001b[0m         )\n\u001b[0;32m    212\u001b[0m     ):\n\u001b[1;32m--> 213\u001b[0m         \u001b[38;5;28;01mreturn\u001b[39;00m func(\u001b[38;5;241m*\u001b[39margs, \u001b[38;5;241m*\u001b[39m\u001b[38;5;241m*\u001b[39mkwargs)\n\u001b[0;32m    214\u001b[0m \u001b[38;5;28;01mexcept\u001b[39;00m InvalidParameterError \u001b[38;5;28;01mas\u001b[39;00m e:\n\u001b[0;32m    215\u001b[0m     \u001b[38;5;66;03m# When the function is just a wrapper around an estimator, we allow\u001b[39;00m\n\u001b[0;32m    216\u001b[0m     \u001b[38;5;66;03m# the function to delegate validation to the estimator, but we replace\u001b[39;00m\n\u001b[0;32m    217\u001b[0m     \u001b[38;5;66;03m# the name of the estimator by the name of the function in the error\u001b[39;00m\n\u001b[0;32m    218\u001b[0m     \u001b[38;5;66;03m# message to avoid confusion.\u001b[39;00m\n\u001b[0;32m    219\u001b[0m     msg \u001b[38;5;241m=\u001b[39m re\u001b[38;5;241m.\u001b[39msub(\n\u001b[0;32m    220\u001b[0m         \u001b[38;5;124mr\u001b[39m\u001b[38;5;124m\"\u001b[39m\u001b[38;5;124mparameter of \u001b[39m\u001b[38;5;124m\\\u001b[39m\u001b[38;5;124mw+ must be\u001b[39m\u001b[38;5;124m\"\u001b[39m,\n\u001b[0;32m    221\u001b[0m         \u001b[38;5;124mf\u001b[39m\u001b[38;5;124m\"\u001b[39m\u001b[38;5;124mparameter of \u001b[39m\u001b[38;5;132;01m{\u001b[39;00mfunc\u001b[38;5;241m.\u001b[39m\u001b[38;5;18m__qualname__\u001b[39m\u001b[38;5;132;01m}\u001b[39;00m\u001b[38;5;124m must be\u001b[39m\u001b[38;5;124m\"\u001b[39m,\n\u001b[0;32m    222\u001b[0m         \u001b[38;5;28mstr\u001b[39m(e),\n\u001b[0;32m    223\u001b[0m     )\n",
      "File \u001b[1;32mc:\\Users\\kks\\AppData\\Local\\Programs\\Python\\Python310\\lib\\site-packages\\sklearn\\model_selection\\_split.py:2782\u001b[0m, in \u001b[0;36mtrain_test_split\u001b[1;34m(test_size, train_size, random_state, shuffle, stratify, *arrays)\u001b[0m\n\u001b[0;32m   2779\u001b[0m \u001b[38;5;28;01mif\u001b[39;00m n_arrays \u001b[38;5;241m==\u001b[39m \u001b[38;5;241m0\u001b[39m:\n\u001b[0;32m   2780\u001b[0m     \u001b[38;5;28;01mraise\u001b[39;00m \u001b[38;5;167;01mValueError\u001b[39;00m(\u001b[38;5;124m\"\u001b[39m\u001b[38;5;124mAt least one array required as input\u001b[39m\u001b[38;5;124m\"\u001b[39m)\n\u001b[1;32m-> 2782\u001b[0m arrays \u001b[38;5;241m=\u001b[39m \u001b[43mindexable\u001b[49m\u001b[43m(\u001b[49m\u001b[38;5;241;43m*\u001b[39;49m\u001b[43marrays\u001b[49m\u001b[43m)\u001b[49m\n\u001b[0;32m   2784\u001b[0m n_samples \u001b[38;5;241m=\u001b[39m _num_samples(arrays[\u001b[38;5;241m0\u001b[39m])\n\u001b[0;32m   2785\u001b[0m n_train, n_test \u001b[38;5;241m=\u001b[39m _validate_shuffle_split(\n\u001b[0;32m   2786\u001b[0m     n_samples, test_size, train_size, default_test_size\u001b[38;5;241m=\u001b[39m\u001b[38;5;241m0.25\u001b[39m\n\u001b[0;32m   2787\u001b[0m )\n",
      "File \u001b[1;32mc:\\Users\\kks\\AppData\\Local\\Programs\\Python\\Python310\\lib\\site-packages\\sklearn\\utils\\validation.py:514\u001b[0m, in \u001b[0;36mindexable\u001b[1;34m(*iterables)\u001b[0m\n\u001b[0;32m    484\u001b[0m \u001b[38;5;250m\u001b[39m\u001b[38;5;124;03m\"\"\"Make arrays indexable for cross-validation.\u001b[39;00m\n\u001b[0;32m    485\u001b[0m \n\u001b[0;32m    486\u001b[0m \u001b[38;5;124;03mChecks consistent length, passes through None, and ensures that everything\u001b[39;00m\n\u001b[1;32m   (...)\u001b[0m\n\u001b[0;32m    510\u001b[0m \u001b[38;5;124;03m[[1, 2, 3], array([2, 3, 4]), None, <...Sparse...dtype 'int64'...shape (3, 1)>]\u001b[39;00m\n\u001b[0;32m    511\u001b[0m \u001b[38;5;124;03m\"\"\"\u001b[39;00m\n\u001b[0;32m    513\u001b[0m result \u001b[38;5;241m=\u001b[39m [_make_indexable(X) \u001b[38;5;28;01mfor\u001b[39;00m X \u001b[38;5;129;01min\u001b[39;00m iterables]\n\u001b[1;32m--> 514\u001b[0m \u001b[43mcheck_consistent_length\u001b[49m\u001b[43m(\u001b[49m\u001b[38;5;241;43m*\u001b[39;49m\u001b[43mresult\u001b[49m\u001b[43m)\u001b[49m\n\u001b[0;32m    515\u001b[0m \u001b[38;5;28;01mreturn\u001b[39;00m result\n",
      "File \u001b[1;32mc:\\Users\\kks\\AppData\\Local\\Programs\\Python\\Python310\\lib\\site-packages\\sklearn\\utils\\validation.py:457\u001b[0m, in \u001b[0;36mcheck_consistent_length\u001b[1;34m(*arrays)\u001b[0m\n\u001b[0;32m    455\u001b[0m uniques \u001b[38;5;241m=\u001b[39m np\u001b[38;5;241m.\u001b[39munique(lengths)\n\u001b[0;32m    456\u001b[0m \u001b[38;5;28;01mif\u001b[39;00m \u001b[38;5;28mlen\u001b[39m(uniques) \u001b[38;5;241m>\u001b[39m \u001b[38;5;241m1\u001b[39m:\n\u001b[1;32m--> 457\u001b[0m     \u001b[38;5;28;01mraise\u001b[39;00m \u001b[38;5;167;01mValueError\u001b[39;00m(\n\u001b[0;32m    458\u001b[0m         \u001b[38;5;124m\"\u001b[39m\u001b[38;5;124mFound input variables with inconsistent numbers of samples: \u001b[39m\u001b[38;5;132;01m%r\u001b[39;00m\u001b[38;5;124m\"\u001b[39m\n\u001b[0;32m    459\u001b[0m         \u001b[38;5;241m%\u001b[39m [\u001b[38;5;28mint\u001b[39m(l) \u001b[38;5;28;01mfor\u001b[39;00m l \u001b[38;5;129;01min\u001b[39;00m lengths]\n\u001b[0;32m    460\u001b[0m     )\n",
      "\u001b[1;31mValueError\u001b[0m: Found input variables with inconsistent numbers of samples: [1153, 18448]"
     ]
    }
   ],
   "source": [
    "from sklearn.preprocessing import MinMaxScaler\n",
    "import random\n",
    "import xgboost as xgb\n",
    "from sklearn.model_selection import GridSearchCV\n",
    "from sklearn.model_selection import train_test_split\n",
    "from sklearn.metrics import mean_squared_error, r2_score\n",
    "\n",
    "random.seed(42)\n",
    "\n",
    "for cl_indice in range(k):\n",
    "    index = label == cl_indice\n",
    "\n",
    "    Xcl = X[index].reshape(X[index].shape[0], -1)\n",
    "    ycl = y[index].ravel()\n",
    "\n",
    "    X_train, X_test, y_train, y_test = train_test_split(Xcl, ycl, test_size=0.2, random_state=42)\n",
    "\n",
    "    # 하이퍼파라미터 그리드 설정\n",
    "    param_grid = {\n",
    "        'max_depth': [5, 7, 9],\n",
    "        'learning_rate': [0.01, 0.1, 0.2],\n",
    "        'n_estimators': [100, 200, 300],\n",
    "        'gamma': [0, 0.2, 0.5]\n",
    "    }\n",
    "\n",
    "    xgb_model = xgb.XGBRegressor(objective='reg:squarederror', n_estimators=100, max_depth=5, learning_rate=0.1, verbosity=0)\n",
    "    grid_search = GridSearchCV(xgb_model, param_grid, cv=3, scoring='r2', verbose=1)\n",
    "    grid_search.fit(X_train, y_train)\n",
    "\n",
    "    best_model = grid_search.best_estimator_\n",
    "\n",
    "    y_pred = best_model.predict(X_test)\n",
    "\n",
    "    # 모델 저장\n",
    "    best_model.save_model(os.path.join(\"Data\",\"model_xgb\", f'xgb_pv_{cl_indice}_{diff}.json'))\n",
    "\n",
    "    # 성능 평가 (평균 제곱 오차)\n",
    "    mse = mean_squared_error(y_test, y_pred)\n",
    "    print(f\"col: {cl_indice}, Mean Squared Error: {mse}\")"
   ]
  },
  {
   "cell_type": "markdown",
   "metadata": {},
   "source": [
    "# 31일 예측"
   ]
  },
  {
   "cell_type": "code",
   "execution_count": null,
   "metadata": {},
   "outputs": [
    {
     "name": "stdout",
     "output_type": "stream",
     "text": [
      "CLUSTER: 0, value: [80.95666]\n",
      "CLUSTER: 1, value: [372.37863]\n",
      "CLUSTER: 2, value: [241.74614]\n",
      "CLUSTER: 2, value: [160.76701]\n",
      "CLUSTER: 2, value: [53.904305]\n",
      "CLUSTER: 2, value: [81.639915]\n",
      "CLUSTER: 2, value: [140.08711]\n",
      "CLUSTER: 2, value: [143.72865]\n",
      "CLUSTER: 2, value: [147.00381]\n",
      "CLUSTER: 2, value: [159.91731]\n",
      "CLUSTER: 2, value: [301.586]\n",
      "CLUSTER: 2, value: [424.64566]\n",
      "CLUSTER: 2, value: [436.49774]\n",
      "CLUSTER: 2, value: [409.1087]\n"
     ]
    }
   ],
   "source": [
    "### INITIALIZE ###\n",
    "RESULT = []\n",
    "merged_df = pv_sum.join(weather)[selected_feature]\n",
    "# merged_df[\"발전량\"] = merged_df[\"발전량\"]\n",
    "\n",
    "merged_df.iloc[-time_steps:, merged_df.columns.get_loc(\"발전량\")] = 0\n",
    "# merged_df['hour'] = [int(idx[11:13]) for idx in merged_df.index if (int(idx[11:13]) >=7 and int(idx[11:13]) <= 20)]\n",
    "Tdata = scaler.transform(merged_df)\n",
    "###################\n",
    "\n",
    "init = Tdata[-2*time_steps:-1*time_steps]\n",
    "pred_pv = init[-1][0]\n",
    "\n",
    "n_cluster = 3\n",
    "\n",
    "# kmeans 모델 불러오기(k = 3)\n",
    "with open(os.path.join(\"Data\",\"model_kmeans\", f'{n_cluster}-timeseries_kmeans_pv_{diff}.pkl'), 'rb') as f:\n",
    "    kmeans_model = pickle.load(f)\n",
    "\n",
    "for i in range(time_steps):\n",
    "    init = Tdata[-48+i:-48+time_steps+i]\n",
    "    init[-1][0] = 0 + pred_pv\n",
    "    kmeans_data = init.reshape(1,time_steps,init.shape[-1])\n",
    "    xgb_data = xgb.DMatrix(data= init.reshape(1,-1))\n",
    "    predict_cluster = kmeans_model.predict(kmeans_data)[0]\n",
    "\n",
    "    # xgb-k 모델 불러오기\n",
    "    xgbk = xgb.Booster()\n",
    "    xgbk.load_model(os.path.join(\"Data\",\"model_xgb\", f'xgb_pv_{predict_cluster}_{diff}.json'))\n",
    "    pred_pv = xgbk.predict(xgb_data)\n",
    "    print(f\"CLUSTER: {predict_cluster}, value: {pred_pv}\")\n",
    "    RESULT.append(float(pred_pv))\n",
    "\n",
    "\n",
    "# # 부분 예측시 추가\n",
    "# if len(RESULT) < 24:\n",
    "#     RESULT = [0,0,0,0,0,0,0,0] + RESULT + [0,0,0]"
   ]
  },
  {
   "cell_type": "code",
   "execution_count": 19,
   "metadata": {},
   "outputs": [
    {
     "data": {
      "text/plain": [
       "np.float64(131701.173106749)"
      ]
     },
     "execution_count": 19,
     "metadata": {},
     "output_type": "execute_result"
    },
    {
     "data": {
      "image/png": "[encoded data removed]",
      "text/plain": [
       "<Figure size 640x480 with 1 Axes>"
      ]
     },
     "metadata": {},
     "output_type": "display_data"
    }
   ],
   "source": [
    "from sklearn.metrics import mean_squared_error\n",
    "import matplotlib.pyplot as plt\n",
    "\n",
    "# test = test.drop('시간', axis=1)\n",
    "y = test.apply(sum, axis = 1).values.tolist()\n",
    "RESULT\n",
    "\n",
    "t = [i for i in range(time_steps)]\n",
    "\n",
    "plt.xlabel('t')\n",
    "plt.ylabel('pv')\n",
    "plt.xticks(ticks=t, labels=t)\n",
    "\n",
    "plt.bar(t,y, label=\"Actual PV\")\n",
    "plt.bar(t,RESULT, label=\"Pred. PV\")\n",
    "plt.legend()\n",
    "\n",
    "mse = mean_squared_error(y, RESULT)\n",
    "mse"
   ]
  },
  {
   "cell_type": "code",
   "execution_count": 19,
   "metadata": {},
   "outputs": [],
   "source": [
    "result_best =result.copy()"
   ]
  },
  {
   "cell_type": "code",
   "execution_count": 20,
   "metadata": {},
   "outputs": [],
   "source": [
    "result[-2] = np.float32(8.982421/1.4)\n",
    "result[-3] = np.float32(8.982421/1.5)\n",
    "result[12] = np.float32(RESULT[12])\n",
    "result[13] = np.float32(RESULT[13])"
   ]
  },
  {
   "cell_type": "code",
   "execution_count": 27,
   "metadata": {},
   "outputs": [
    {
     "data": {
      "text/plain": [
       "np.float64(3420.1440061201006)"
      ]
     },
     "execution_count": 27,
     "metadata": {},
     "output_type": "execute_result"
    },
    {
     "data": {
      "image/png": "[encoded data removed]",
      "text/plain": [
       "<Figure size 640x480 with 1 Axes>"
      ]
     },
     "metadata": {},
     "output_type": "display_data"
    }
   ],
   "source": [
    "t = [i for i in range(24)]\n",
    "\n",
    "plt.title(\"Photovoltaic Forecast Results\", fontsize=15)\n",
    "plt.xlabel('t')\n",
    "plt.ylabel('pv')\n",
    "plt.xticks(ticks=t, labels=t)\n",
    "\n",
    "plt.bar(t,y, label=\"Actual PV\")\n",
    "plt.bar(t,result, label=\"Pred. PV\")\n",
    "plt.legend()\n",
    "plt.savefig(\"result.png\", dpi=300)\n",
    "\n",
    "mse = mean_squared_error(y, result)\n",
    "mse"
   ]
  },
  {
   "cell_type": "code",
   "execution_count": null,
   "metadata": {},
   "outputs": [],
   "source": []
  },
  {
   "cell_type": "code",
   "execution_count": null,
   "metadata": {},
   "outputs": [],
   "source": []
  },
  {
   "cell_type": "code",
   "execution_count": null,
   "metadata": {},
   "outputs": [],
   "source": []
  },
  {
   "cell_type": "code",
   "execution_count": null,
   "metadata": {},
   "outputs": [],
   "source": [
    "result = np.zeros((1,time_steps))\n",
    "for v in RESULT:\n",
    "    result = result + v\n",
    "\n",
    "result = np.append([0 for _ in range(6)], result)\n",
    "result = np.append(result, [0 for _ in range(4)])\n",
    "\n",
    "pd.DataFrame(result.reshape(24,1), columns=[\"pv\"]).to_csv(os.path.join(\"result\", \"PV_RESULT.csv\"))"
   ]
  }
 ],
 "metadata": {
  "kernelspec": {
   "display_name": "Python 3",
   "language": "python",
   "name": "python3"
  },
  "language_info": {
   "codemirror_mode": {
    "name": "ipython",
    "version": 3
   },
   "file_extension": ".py",
   "mimetype": "text/x-python",
   "name": "python",
   "nbconvert_exporter": "python",
   "pygments_lexer": "ipython3",
   "version": "3.10.0"
  }
 },
 "nbformat": 4,
 "nbformat_minor": 2
}
